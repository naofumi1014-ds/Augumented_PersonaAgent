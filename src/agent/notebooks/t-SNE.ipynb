{
 "cells": [
  {
   "cell_type": "markdown",
   "id": "f451d996",
   "metadata": {},
   "source": [
    "### t-SNEによるペルソナプロンプトの２次元可視化\n",
    "\n",
    "- 初期プロンプトから離れたか\n",
    "- ユーザー同士の位置"
   ]
  },
  {
   "cell_type": "code",
   "execution_count": 1,
   "id": "067b7598",
   "metadata": {},
   "outputs": [],
   "source": [
    "from dotenv import load_dotenv\n",
    "import os\n",
    "\n",
    "from openai import AzureOpenAI\n",
    "load_dotenv()\n",
    "\n",
    "# 環境変数から設定を取得\n",
    "AZURE_OPENAI_EMBEDDING_DEPLOYMENT = os.getenv('AZURE_OPENAI_EMBEDDING_DEPLOYMENT')\n",
    "\n",
    "embedding = AzureOpenAI(\n",
    "        azure_endpoint=os.getenv(\"AZURE_OPENAI_ENDPOINT\"),\n",
    "        api_key=os.getenv(\"AZURE_OPENAI_API_KEY\"),\n",
    "        api_version=os.getenv(\"AZURE_OPENAI_EMBEDDING_API_VERSION\"),\n",
    "        azure_deployment=os.getenv(\"AZURE_OPENAI_EMBEDDING_DEPLOYMENT\"),\n",
    "    )\n",
    "\n",
    "# embeddings = embedding.embeddings.create(\n",
    "#     model=AZURE_OPENAI_EMBEDDING_DEPLOYMENT,\n",
    "#     input=['hello']\n",
    "# )\n",
    "# embeddings.data[0].embedding"
   ]
  },
  {
   "cell_type": "code",
   "execution_count": null,
   "id": "d3519073",
   "metadata": {},
   "outputs": [
    {
     "name": "stdout",
     "output_type": "stream",
     "text": [
      "対象ファイル: ['initial_systemprompt', 'userA_persona_systemprompt', 'userB_persona_systemprompt', 'userC_persona_systemprompt']\n",
      "埋め込みshape: (4, 3072)\n",
      "埋め込みshape: (4, 3072)\n"
     ]
    },
    {
     "data": {
      "application/vnd.plotly.v1+json": {
       "config": {
        "plotlyServerURL": "https://plot.ly"
       },
       "data": [
        {
         "customdata": [
          [
           "あなたは、役に立つパーソナライズされたアシスタントです。 ユーザーの嗜好を推測し、質問に答えるために、2つ以上のツールを実行し回答してください。 ユーザー概要: [] Warnings:ツールを使用する際は、常に以下を行ってください: - 必要な情報についてステップバイステップで考えてください。 - 質問に答えるために、必ず少なくとも2つのツールを使用してください。 - ツールを正確かつ意図的に使用し、異なるツールから最も正確な情報を取得するようにしてください。 - 明確かつ簡潔な回答を提供してください。最終回答に説明を記載しないでください。"
          ],
          [
           "あなたは、役に立つパーソナライズされたアシスタントです。 ユーザーの嗜好を推測し、質問に答えるために、2つ以上のツールを実行し回答してください。 ユーザー概要: ['30代から50代の知的好奇心が旺盛な日本人、性別は明記されていないが、会話や言葉遣いから中性的または男性の可能性がやや高い。', '旅行好きで、特に国内のグルメ（海鮮・寿司類）や温泉、サウナに強い関心がある。魚介類、とくにマグロや地元の鮮魚系を好み、現地ならではの食体験を重視。うなぎやフナなど定番以外のローカル魚介にも興味。', '主要観光地の情報よりも、食やサウナの“具体的スポット名や詳しい体験談”など実用的・現場的な情報を積極的にリクエストする。地名や食材にも幅広い知識を持つ傾向。', '「ありがとう。～ですわ」などのやや丁寧で落ち着いた柔らかい言葉遣い。一方、質問時は要点を簡潔明瞭に伝えるタイプ。どんなジャンルにも「あれば教えて」「中心に教えて」などテーマの絞り込みをする。', '複数候補やモデルコース的な提案、情報まとめを評価する傾向がある一方で、必要があれば「〇〇は？」などピンポイントの追加質問を素早く行う。', '旅行情報やグルメ情報について、広く浅くよりも“美味しい魚の店”や“有名サウナ”など深く具体的な掘り下げを求める姿勢。地名や観光地比較（例：静岡と真鶴など）もできる。', '温泉・サウナ旅行への関心が高く、「有名なサウナ」「ご当地の体験」「メニュー詳細」など、本物志向・現地体験重視。口コミや評判にも敏感な印象。', '「具体例」や「詳細な説明」「食べ方のおすすめ」など、実際に役立つトラベルTipsへの反応がよい。会話から論理的な組み立て、段落分け・リスト形式などの整理された返答を好む。'] Warnings:ツールを使用する際は、常に以下を行ってください: - 必要な情報についてステップバイステップで考えてください。 - 質問に答えるために、必ず少なくとも2つのツールを使用してください。 - ツールを正確かつ意図的に使用し、異なるツールから最も正確な情報を取得するようにしてください。 - 明確かつ簡潔な回答を提供してください。最終回答に説明を記載しないでください。"
          ],
          [
           "あなたは、役に立つパーソナライズされたアシスタントです。 ユーザーの嗜好を推測し、質問に答えるために、2つ以上のツールを実行し回答してください。 ユーザー概要: ['30～40代の男性の可能性が高い（食へのこだわりや海外旅行経験の豊富さから中堅～ベテラン層と推測）', '職業はIT・技術系やビジネスマンなど、情報収集力と海外渡航経験が多い職種（自己表現・情報整理が得意な印象、ラウンジ利用歴も参考）', '好きなジャンルは『肉料理・スパイシー料理』『世界各地のグルメ体験』。特にがっつり系の肉料理・Tボーンステーキなどボリューム重視。加えて東南アジア～アメリカの現地ご当地グルメにも積極的に興味を持つ。『辛い料理』も強いモチベーション。アロスカルドのような現地食文化も愛好。', 'コミュニケーションスタイルはカジュアル、テンション高め。食に関しては『最高』『がっつり』『良いね』など感情をストレートに表す。堅苦しくなく親しみやすい雰囲気。旅行やグルメの話題になると嬉々としてディテールを共有する傾向。', '思考の焦点は旅行先や料理の“本場らしさ”、“現地での体験”に重きを置く。自分の体験談（例：マニラのラウンジで食べたアロスカルド）も積極的に共有。現地グルメのアレンジや食べ方に興味。観光地や都市別の情報も具体的に聞くなど、現実主義・実用主義的志向。', '回答の癖は、単なる事実より『どこで何を食べれば本場を楽しめるか』『辛さやボリュームの度合い』『おすすめメニューや注文方法』を重視し詳しく聞く。さらに、現地ごとの食文化の違いへの興味も強い。抽象的な説明より具体事例や体験談を求める傾向。', '言葉遣いはフランクで親しみやすい。」「ユーザーの応答傾向として、『これも知ってる？』『他に美味しい肉や辛い料理ある？』『現地で食べるなら？』といった会話の広がりや深掘りが多い。旅や食を中心にした幅広い知識欲と体験志向（食×旅行×体験）が軸にある。'] Warnings:ツールを使用する際は、常に以下を行ってください: - 必要な情報についてステップバイステップで考えてください。 - 質問に答えるために、必ず少なくとも2つのツールを使用してください。 - ツールを正確かつ意図的に使用し、異なるツールから最も正確な情報を取得するようにしてください。 - 明確かつ簡潔な回答を提供してください。最終回答に説明を記載しないでください。"
          ],
          [
           "あなたは、役に立つパーソナライズされたアシスタントです。 ユーザーの嗜好を推測し、質問に答えるために、2つ以上のツールを実行し回答してください。 ユーザー概要: ['性別や年齢層、どんな仕事をしていそうか：性別は不明だが、野球の専門的な知識や選手のキャリア、技術に詳しいことから、20〜40代の男性、もしくは野球好きな中高年でデスクワーク・知的労働（会社員や専門職、教育関連など）をしている可能性が高い。IT・メディア系も視野に入る。', '好きなジャンルやテーマ：日本野球（NPB・高校野球）およびメジャーリーグ（MLB）が好きで、選手のストーリーや球種、戦術など細かい部分に興味を持つ。スポーツ全般や選手の経歴にも幅広い関心がある。歴史的な流れや選手間のつながりにも関心がありそう。', 'コミュニケーションスタイル：補足や追加の質問が多く、会話の中で連想的に話題を広げる傾向。知識の確認や深掘り、具体的な事例を通じて疑問を解消しようとする。較的フランクでリラックスした雰囲気を好むが、情報には正確さや背景解説も重視している。', '思考の焦点：スポーツの技術的解説や戦術、選手のキャリアや相関関係、トレンドワード（球種名や用語など）の意味・用法に強い興味をもつ。話題の背景や新しい要素、最新トレンドにも敏感。', '回答の癖：関連ワードについて次々と質問を重ね、知識を体系的につなげていく傾向がある。特定キーワードからさらに掘り下げ、指定選手の特徴や変化、比較などを求める。知識確認型の質問が多い。', '言葉遣い：カジュアルで柔らかめだが、砕けすぎない言い回し。親しみを持ちながらも敬意を払うニュアンスが感じられる。やや会話調。', 'ユーザーの質問に対する応答の傾向：会話の流れのなかで、気になった点を都度具体的に突っ込む。『○○は？』『□□ですよね？』『他には？』など追加質問・追及に積極的。例示やリスト化した情報を好む。'] Warnings:ツールを使用する際は、常に以下を行ってください: - 必要な情報についてステップバイステップで考えてください。 - 質問に答えるために、必ず少なくとも2つのツールを使用してください。 - ツールを正確かつ意図的に使用し、異なるツールから最も正確な情報を取得するようにしてください。 - 明確かつ簡潔な回答を提供してください。最終回答に説明を記載しないでください。"
          ]
         ],
         "hovertemplate": "x=%{x}<br>y=%{y}<br>label=%{text}<br>text=%{customdata[0]}<extra></extra>",
         "legendgroup": "",
         "marker": {
          "color": "#636efa",
          "symbol": "circle"
         },
         "mode": "markers+text",
         "name": "",
         "orientation": "v",
         "showlegend": false,
         "text": [
          "initial_systemprompt",
          "userA_persona_systemprompt",
          "userB_persona_systemprompt",
          "userC_persona_systemprompt"
         ],
         "textposition": "top center",
         "type": "scatter",
         "x": {
          "bdata": "5aaxw9fr98Kz7QtCSgAZwg==",
          "dtype": "f4"
         },
         "xaxis": "x",
         "y": {
          "bdata": "vqWnQplnw0Ku2qVCxgXewg==",
          "dtype": "f4"
         },
         "yaxis": "y"
        }
       ],
       "layout": {
        "legend": {
         "tracegroupgap": 0
        },
        "template": {
         "data": {
          "bar": [
           {
            "error_x": {
             "color": "#2a3f5f"
            },
            "error_y": {
             "color": "#2a3f5f"
            },
            "marker": {
             "line": {
              "color": "#E5ECF6",
              "width": 0.5
             },
             "pattern": {
              "fillmode": "overlay",
              "size": 10,
              "solidity": 0.2
             }
            },
            "type": "bar"
           }
          ],
          "barpolar": [
           {
            "marker": {
             "line": {
              "color": "#E5ECF6",
              "width": 0.5
             },
             "pattern": {
              "fillmode": "overlay",
              "size": 10,
              "solidity": 0.2
             }
            },
            "type": "barpolar"
           }
          ],
          "carpet": [
           {
            "aaxis": {
             "endlinecolor": "#2a3f5f",
             "gridcolor": "white",
             "linecolor": "white",
             "minorgridcolor": "white",
             "startlinecolor": "#2a3f5f"
            },
            "baxis": {
             "endlinecolor": "#2a3f5f",
             "gridcolor": "white",
             "linecolor": "white",
             "minorgridcolor": "white",
             "startlinecolor": "#2a3f5f"
            },
            "type": "carpet"
           }
          ],
          "choropleth": [
           {
            "colorbar": {
             "outlinewidth": 0,
             "ticks": ""
            },
            "type": "choropleth"
           }
          ],
          "contour": [
           {
            "colorbar": {
             "outlinewidth": 0,
             "ticks": ""
            },
            "colorscale": [
             [
              0,
              "#0d0887"
             ],
             [
              0.1111111111111111,
              "#46039f"
             ],
             [
              0.2222222222222222,
              "#7201a8"
             ],
             [
              0.3333333333333333,
              "#9c179e"
             ],
             [
              0.4444444444444444,
              "#bd3786"
             ],
             [
              0.5555555555555556,
              "#d8576b"
             ],
             [
              0.6666666666666666,
              "#ed7953"
             ],
             [
              0.7777777777777778,
              "#fb9f3a"
             ],
             [
              0.8888888888888888,
              "#fdca26"
             ],
             [
              1,
              "#f0f921"
             ]
            ],
            "type": "contour"
           }
          ],
          "contourcarpet": [
           {
            "colorbar": {
             "outlinewidth": 0,
             "ticks": ""
            },
            "type": "contourcarpet"
           }
          ],
          "heatmap": [
           {
            "colorbar": {
             "outlinewidth": 0,
             "ticks": ""
            },
            "colorscale": [
             [
              0,
              "#0d0887"
             ],
             [
              0.1111111111111111,
              "#46039f"
             ],
             [
              0.2222222222222222,
              "#7201a8"
             ],
             [
              0.3333333333333333,
              "#9c179e"
             ],
             [
              0.4444444444444444,
              "#bd3786"
             ],
             [
              0.5555555555555556,
              "#d8576b"
             ],
             [
              0.6666666666666666,
              "#ed7953"
             ],
             [
              0.7777777777777778,
              "#fb9f3a"
             ],
             [
              0.8888888888888888,
              "#fdca26"
             ],
             [
              1,
              "#f0f921"
             ]
            ],
            "type": "heatmap"
           }
          ],
          "histogram": [
           {
            "marker": {
             "pattern": {
              "fillmode": "overlay",
              "size": 10,
              "solidity": 0.2
             }
            },
            "type": "histogram"
           }
          ],
          "histogram2d": [
           {
            "colorbar": {
             "outlinewidth": 0,
             "ticks": ""
            },
            "colorscale": [
             [
              0,
              "#0d0887"
             ],
             [
              0.1111111111111111,
              "#46039f"
             ],
             [
              0.2222222222222222,
              "#7201a8"
             ],
             [
              0.3333333333333333,
              "#9c179e"
             ],
             [
              0.4444444444444444,
              "#bd3786"
             ],
             [
              0.5555555555555556,
              "#d8576b"
             ],
             [
              0.6666666666666666,
              "#ed7953"
             ],
             [
              0.7777777777777778,
              "#fb9f3a"
             ],
             [
              0.8888888888888888,
              "#fdca26"
             ],
             [
              1,
              "#f0f921"
             ]
            ],
            "type": "histogram2d"
           }
          ],
          "histogram2dcontour": [
           {
            "colorbar": {
             "outlinewidth": 0,
             "ticks": ""
            },
            "colorscale": [
             [
              0,
              "#0d0887"
             ],
             [
              0.1111111111111111,
              "#46039f"
             ],
             [
              0.2222222222222222,
              "#7201a8"
             ],
             [
              0.3333333333333333,
              "#9c179e"
             ],
             [
              0.4444444444444444,
              "#bd3786"
             ],
             [
              0.5555555555555556,
              "#d8576b"
             ],
             [
              0.6666666666666666,
              "#ed7953"
             ],
             [
              0.7777777777777778,
              "#fb9f3a"
             ],
             [
              0.8888888888888888,
              "#fdca26"
             ],
             [
              1,
              "#f0f921"
             ]
            ],
            "type": "histogram2dcontour"
           }
          ],
          "mesh3d": [
           {
            "colorbar": {
             "outlinewidth": 0,
             "ticks": ""
            },
            "type": "mesh3d"
           }
          ],
          "parcoords": [
           {
            "line": {
             "colorbar": {
              "outlinewidth": 0,
              "ticks": ""
             }
            },
            "type": "parcoords"
           }
          ],
          "pie": [
           {
            "automargin": true,
            "type": "pie"
           }
          ],
          "scatter": [
           {
            "fillpattern": {
             "fillmode": "overlay",
             "size": 10,
             "solidity": 0.2
            },
            "type": "scatter"
           }
          ],
          "scatter3d": [
           {
            "line": {
             "colorbar": {
              "outlinewidth": 0,
              "ticks": ""
             }
            },
            "marker": {
             "colorbar": {
              "outlinewidth": 0,
              "ticks": ""
             }
            },
            "type": "scatter3d"
           }
          ],
          "scattercarpet": [
           {
            "marker": {
             "colorbar": {
              "outlinewidth": 0,
              "ticks": ""
             }
            },
            "type": "scattercarpet"
           }
          ],
          "scattergeo": [
           {
            "marker": {
             "colorbar": {
              "outlinewidth": 0,
              "ticks": ""
             }
            },
            "type": "scattergeo"
           }
          ],
          "scattergl": [
           {
            "marker": {
             "colorbar": {
              "outlinewidth": 0,
              "ticks": ""
             }
            },
            "type": "scattergl"
           }
          ],
          "scattermap": [
           {
            "marker": {
             "colorbar": {
              "outlinewidth": 0,
              "ticks": ""
             }
            },
            "type": "scattermap"
           }
          ],
          "scattermapbox": [
           {
            "marker": {
             "colorbar": {
              "outlinewidth": 0,
              "ticks": ""
             }
            },
            "type": "scattermapbox"
           }
          ],
          "scatterpolar": [
           {
            "marker": {
             "colorbar": {
              "outlinewidth": 0,
              "ticks": ""
             }
            },
            "type": "scatterpolar"
           }
          ],
          "scatterpolargl": [
           {
            "marker": {
             "colorbar": {
              "outlinewidth": 0,
              "ticks": ""
             }
            },
            "type": "scatterpolargl"
           }
          ],
          "scatterternary": [
           {
            "marker": {
             "colorbar": {
              "outlinewidth": 0,
              "ticks": ""
             }
            },
            "type": "scatterternary"
           }
          ],
          "surface": [
           {
            "colorbar": {
             "outlinewidth": 0,
             "ticks": ""
            },
            "colorscale": [
             [
              0,
              "#0d0887"
             ],
             [
              0.1111111111111111,
              "#46039f"
             ],
             [
              0.2222222222222222,
              "#7201a8"
             ],
             [
              0.3333333333333333,
              "#9c179e"
             ],
             [
              0.4444444444444444,
              "#bd3786"
             ],
             [
              0.5555555555555556,
              "#d8576b"
             ],
             [
              0.6666666666666666,
              "#ed7953"
             ],
             [
              0.7777777777777778,
              "#fb9f3a"
             ],
             [
              0.8888888888888888,
              "#fdca26"
             ],
             [
              1,
              "#f0f921"
             ]
            ],
            "type": "surface"
           }
          ],
          "table": [
           {
            "cells": {
             "fill": {
              "color": "#EBF0F8"
             },
             "line": {
              "color": "white"
             }
            },
            "header": {
             "fill": {
              "color": "#C8D4E3"
             },
             "line": {
              "color": "white"
             }
            },
            "type": "table"
           }
          ]
         },
         "layout": {
          "annotationdefaults": {
           "arrowcolor": "#2a3f5f",
           "arrowhead": 0,
           "arrowwidth": 1
          },
          "autotypenumbers": "strict",
          "coloraxis": {
           "colorbar": {
            "outlinewidth": 0,
            "ticks": ""
           }
          },
          "colorscale": {
           "diverging": [
            [
             0,
             "#8e0152"
            ],
            [
             0.1,
             "#c51b7d"
            ],
            [
             0.2,
             "#de77ae"
            ],
            [
             0.3,
             "#f1b6da"
            ],
            [
             0.4,
             "#fde0ef"
            ],
            [
             0.5,
             "#f7f7f7"
            ],
            [
             0.6,
             "#e6f5d0"
            ],
            [
             0.7,
             "#b8e186"
            ],
            [
             0.8,
             "#7fbc41"
            ],
            [
             0.9,
             "#4d9221"
            ],
            [
             1,
             "#276419"
            ]
           ],
           "sequential": [
            [
             0,
             "#0d0887"
            ],
            [
             0.1111111111111111,
             "#46039f"
            ],
            [
             0.2222222222222222,
             "#7201a8"
            ],
            [
             0.3333333333333333,
             "#9c179e"
            ],
            [
             0.4444444444444444,
             "#bd3786"
            ],
            [
             0.5555555555555556,
             "#d8576b"
            ],
            [
             0.6666666666666666,
             "#ed7953"
            ],
            [
             0.7777777777777778,
             "#fb9f3a"
            ],
            [
             0.8888888888888888,
             "#fdca26"
            ],
            [
             1,
             "#f0f921"
            ]
           ],
           "sequentialminus": [
            [
             0,
             "#0d0887"
            ],
            [
             0.1111111111111111,
             "#46039f"
            ],
            [
             0.2222222222222222,
             "#7201a8"
            ],
            [
             0.3333333333333333,
             "#9c179e"
            ],
            [
             0.4444444444444444,
             "#bd3786"
            ],
            [
             0.5555555555555556,
             "#d8576b"
            ],
            [
             0.6666666666666666,
             "#ed7953"
            ],
            [
             0.7777777777777778,
             "#fb9f3a"
            ],
            [
             0.8888888888888888,
             "#fdca26"
            ],
            [
             1,
             "#f0f921"
            ]
           ]
          },
          "colorway": [
           "#636efa",
           "#EF553B",
           "#00cc96",
           "#ab63fa",
           "#FFA15A",
           "#19d3f3",
           "#FF6692",
           "#B6E880",
           "#FF97FF",
           "#FECB52"
          ],
          "font": {
           "color": "#2a3f5f"
          },
          "geo": {
           "bgcolor": "white",
           "lakecolor": "white",
           "landcolor": "#E5ECF6",
           "showlakes": true,
           "showland": true,
           "subunitcolor": "white"
          },
          "hoverlabel": {
           "align": "left"
          },
          "hovermode": "closest",
          "mapbox": {
           "style": "light"
          },
          "paper_bgcolor": "white",
          "plot_bgcolor": "#E5ECF6",
          "polar": {
           "angularaxis": {
            "gridcolor": "white",
            "linecolor": "white",
            "ticks": ""
           },
           "bgcolor": "#E5ECF6",
           "radialaxis": {
            "gridcolor": "white",
            "linecolor": "white",
            "ticks": ""
           }
          },
          "scene": {
           "xaxis": {
            "backgroundcolor": "#E5ECF6",
            "gridcolor": "white",
            "gridwidth": 2,
            "linecolor": "white",
            "showbackground": true,
            "ticks": "",
            "zerolinecolor": "white"
           },
           "yaxis": {
            "backgroundcolor": "#E5ECF6",
            "gridcolor": "white",
            "gridwidth": 2,
            "linecolor": "white",
            "showbackground": true,
            "ticks": "",
            "zerolinecolor": "white"
           },
           "zaxis": {
            "backgroundcolor": "#E5ECF6",
            "gridcolor": "white",
            "gridwidth": 2,
            "linecolor": "white",
            "showbackground": true,
            "ticks": "",
            "zerolinecolor": "white"
           }
          },
          "shapedefaults": {
           "line": {
            "color": "#2a3f5f"
           }
          },
          "ternary": {
           "aaxis": {
            "gridcolor": "white",
            "linecolor": "white",
            "ticks": ""
           },
           "baxis": {
            "gridcolor": "white",
            "linecolor": "white",
            "ticks": ""
           },
           "bgcolor": "#E5ECF6",
           "caxis": {
            "gridcolor": "white",
            "linecolor": "white",
            "ticks": ""
           }
          },
          "title": {
           "x": 0.05
          },
          "xaxis": {
           "automargin": true,
           "gridcolor": "white",
           "linecolor": "white",
           "ticks": "",
           "title": {
            "standoff": 15
           },
           "zerolinecolor": "white",
           "zerolinewidth": 2
          },
          "yaxis": {
           "automargin": true,
           "gridcolor": "white",
           "linecolor": "white",
           "ticks": "",
           "title": {
            "standoff": 15
           },
           "zerolinecolor": "white",
           "zerolinewidth": 2
          }
         }
        },
        "title": {
         "text": "System Prompt t-SNE"
        },
        "xaxis": {
         "anchor": "y",
         "domain": [
          0,
          1
         ],
         "title": {
          "text": "x"
         }
        },
        "yaxis": {
         "anchor": "x",
         "domain": [
          0,
          1
         ],
         "title": {
          "text": "y"
         }
        }
       }
      }
     },
     "metadata": {},
     "output_type": "display_data"
    }
   ],
   "source": [
    "# system_prompt を含む md ファイルを読み込み、Azure OpenAI Embeddings -> t-SNE 可視化\n",
    "from pathlib import Path\n",
    "import re\n",
    "import numpy as np\n",
    "import pandas as pd\n",
    "from sklearn.manifold import TSNE\n",
    "import plotly.express as px\n",
    "\n",
    "base_dir = Path('/home/naofumi1014/PersonaAgent/experiment')\n",
    "md_files = sorted(base_dir.glob('*systemprompt*.md'))\n",
    "texts = []\n",
    "labels = []\n",
    "for f in md_files:\n",
    "    try:\n",
    "        content = f.read_text(encoding='utf-8')\n",
    "    except Exception as e:\n",
    "        print(f\"読み込み失敗: {f}: {e}\")\n",
    "        continue\n",
    "    norm = re.sub(r'\\s+', ' ', content).strip()\n",
    "    texts.append(norm)\n",
    "    labels.append(f.stem)\n",
    "\n",
    "print('対象ファイル:', labels)\n",
    "embeddings = []\n",
    "for t in texts:\n",
    "    resp = embedding.embeddings.create(\n",
    "        model=AZURE_OPENAI_EMBEDDING_DEPLOYMENT,\n",
    "        input=t\n",
    "    )\n",
    "    embeddings.append(resp.data[0].embedding)\n",
    "\n",
    "embeddings = np.array(embeddings)\n",
    "print('埋め込みshape:', embeddings.shape)\n",
    "\n",
    "if len(embeddings) < 2:\n",
    "    raise ValueError('可視化には2件以上のsystem promptファイルが必要です')\n",
    "\n",
    "perplexity = max(2, min(30, len(embeddings)//2))\n",
    "tsne = TSNE(n_components=2, random_state=42, init='pca', perplexity=perplexity)\n",
    "points_2d = tsne.fit_transform(embeddings)\n",
    "\n",
    "df = pd.DataFrame({'x': points_2d[:,0], 'y': points_2d[:,1], 'label': labels, 'text': texts})\n",
    "fig = px.scatter(df, x='x', y='y', text='label', hover_data={'text': True}, title='System Prompt t-SNE')\n",
    "fig.update_traces(textposition='top center')\n",
    "fig.update_layout(\n",
    "    width=700,\n",
    "    height=700,\n",
    "    yaxis=dict(scaleanchor=\"x\", scaleratio=1)\n",
    ")\n",
    "\n",
    "fig.show()"
   ]
  },
  {
   "cell_type": "code",
   "execution_count": 3,
   "id": "2eec064c",
   "metadata": {},
   "outputs": [
    {
     "data": {
      "application/vnd.plotly.v1+json": {
       "config": {
        "plotlyServerURL": "https://plot.ly"
       },
       "data": [
        {
         "customdata": [
          [
           "あなたは、役に立つパーソナライズされたアシスタントです。 ユーザーの嗜好を推測し、質問に答えるために、2つ以上のツールを実行し回答してください。 ユーザー概要: [] Warnings:ツールを使用する際は、常に以下を行ってください: - 必要な情報についてステップバイステップで考えてください。 - 質問に答えるために、必ず少なくとも2つのツールを使用してください。 - ツールを正確かつ意図的に使用し、異なるツールから最も正確な情報を取得するようにしてください。 - 明確かつ簡潔な回答を提供してください。最終回答に説明を記載しないでください。"
          ],
          [
           "あなたは、役に立つパーソナライズされたアシスタントです。 ユーザーの嗜好を推測し、質問に答えるために、2つ以上のツールを実行し回答してください。 ユーザー概要: ['30代から50代の知的好奇心が旺盛な日本人、性別は明記されていないが、会話や言葉遣いから中性的または男性の可能性がやや高い。', '旅行好きで、特に国内のグルメ（海鮮・寿司類）や温泉、サウナに強い関心がある。魚介類、とくにマグロや地元の鮮魚系を好み、現地ならではの食体験を重視。うなぎやフナなど定番以外のローカル魚介にも興味。', '主要観光地の情報よりも、食やサウナの“具体的スポット名や詳しい体験談”など実用的・現場的な情報を積極的にリクエストする。地名や食材にも幅広い知識を持つ傾向。', '「ありがとう。～ですわ」などのやや丁寧で落ち着いた柔らかい言葉遣い。一方、質問時は要点を簡潔明瞭に伝えるタイプ。どんなジャンルにも「あれば教えて」「中心に教えて」などテーマの絞り込みをする。', '複数候補やモデルコース的な提案、情報まとめを評価する傾向がある一方で、必要があれば「〇〇は？」などピンポイントの追加質問を素早く行う。', '旅行情報やグルメ情報について、広く浅くよりも“美味しい魚の店”や“有名サウナ”など深く具体的な掘り下げを求める姿勢。地名や観光地比較（例：静岡と真鶴など）もできる。', '温泉・サウナ旅行への関心が高く、「有名なサウナ」「ご当地の体験」「メニュー詳細」など、本物志向・現地体験重視。口コミや評判にも敏感な印象。', '「具体例」や「詳細な説明」「食べ方のおすすめ」など、実際に役立つトラベルTipsへの反応がよい。会話から論理的な組み立て、段落分け・リスト形式などの整理された返答を好む。'] Warnings:ツールを使用する際は、常に以下を行ってください: - 必要な情報についてステップバイステップで考えてください。 - 質問に答えるために、必ず少なくとも2つのツールを使用してください。 - ツールを正確かつ意図的に使用し、異なるツールから最も正確な情報を取得するようにしてください。 - 明確かつ簡潔な回答を提供してください。最終回答に説明を記載しないでください。"
          ],
          [
           "あなたは、役に立つパーソナライズされたアシスタントです。 ユーザーの嗜好を推測し、質問に答えるために、2つ以上のツールを実行し回答してください。 ユーザー概要: ['30～40代の男性の可能性が高い（食へのこだわりや海外旅行経験の豊富さから中堅～ベテラン層と推測）', '職業はIT・技術系やビジネスマンなど、情報収集力と海外渡航経験が多い職種（自己表現・情報整理が得意な印象、ラウンジ利用歴も参考）', '好きなジャンルは『肉料理・スパイシー料理』『世界各地のグルメ体験』。特にがっつり系の肉料理・Tボーンステーキなどボリューム重視。加えて東南アジア～アメリカの現地ご当地グルメにも積極的に興味を持つ。『辛い料理』も強いモチベーション。アロスカルドのような現地食文化も愛好。', 'コミュニケーションスタイルはカジュアル、テンション高め。食に関しては『最高』『がっつり』『良いね』など感情をストレートに表す。堅苦しくなく親しみやすい雰囲気。旅行やグルメの話題になると嬉々としてディテールを共有する傾向。', '思考の焦点は旅行先や料理の“本場らしさ”、“現地での体験”に重きを置く。自分の体験談（例：マニラのラウンジで食べたアロスカルド）も積極的に共有。現地グルメのアレンジや食べ方に興味。観光地や都市別の情報も具体的に聞くなど、現実主義・実用主義的志向。', '回答の癖は、単なる事実より『どこで何を食べれば本場を楽しめるか』『辛さやボリュームの度合い』『おすすめメニューや注文方法』を重視し詳しく聞く。さらに、現地ごとの食文化の違いへの興味も強い。抽象的な説明より具体事例や体験談を求める傾向。', '言葉遣いはフランクで親しみやすい。」「ユーザーの応答傾向として、『これも知ってる？』『他に美味しい肉や辛い料理ある？』『現地で食べるなら？』といった会話の広がりや深掘りが多い。旅や食を中心にした幅広い知識欲と体験志向（食×旅行×体験）が軸にある。'] Warnings:ツールを使用する際は、常に以下を行ってください: - 必要な情報についてステップバイステップで考えてください。 - 質問に答えるために、必ず少なくとも2つのツールを使用してください。 - ツールを正確かつ意図的に使用し、異なるツールから最も正確な情報を取得するようにしてください。 - 明確かつ簡潔な回答を提供してください。最終回答に説明を記載しないでください。"
          ],
          [
           "あなたは、役に立つパーソナライズされたアシスタントです。 ユーザーの嗜好を推測し、質問に答えるために、2つ以上のツールを実行し回答してください。 ユーザー概要: ['性別や年齢層、どんな仕事をしていそうか：性別は不明だが、野球の専門的な知識や選手のキャリア、技術に詳しいことから、20〜40代の男性、もしくは野球好きな中高年でデスクワーク・知的労働（会社員や専門職、教育関連など）をしている可能性が高い。IT・メディア系も視野に入る。', '好きなジャンルやテーマ：日本野球（NPB・高校野球）およびメジャーリーグ（MLB）が好きで、選手のストーリーや球種、戦術など細かい部分に興味を持つ。スポーツ全般や選手の経歴にも幅広い関心がある。歴史的な流れや選手間のつながりにも関心がありそう。', 'コミュニケーションスタイル：補足や追加の質問が多く、会話の中で連想的に話題を広げる傾向。知識の確認や深掘り、具体的な事例を通じて疑問を解消しようとする。較的フランクでリラックスした雰囲気を好むが、情報には正確さや背景解説も重視している。', '思考の焦点：スポーツの技術的解説や戦術、選手のキャリアや相関関係、トレンドワード（球種名や用語など）の意味・用法に強い興味をもつ。話題の背景や新しい要素、最新トレンドにも敏感。', '回答の癖：関連ワードについて次々と質問を重ね、知識を体系的につなげていく傾向がある。特定キーワードからさらに掘り下げ、指定選手の特徴や変化、比較などを求める。知識確認型の質問が多い。', '言葉遣い：カジュアルで柔らかめだが、砕けすぎない言い回し。親しみを持ちながらも敬意を払うニュアンスが感じられる。やや会話調。', 'ユーザーの質問に対する応答の傾向：会話の流れのなかで、気になった点を都度具体的に突っ込む。『○○は？』『□□ですよね？』『他には？』など追加質問・追及に積極的。例示やリスト化した情報を好む。'] Warnings:ツールを使用する際は、常に以下を行ってください: - 必要な情報についてステップバイステップで考えてください。 - 質問に答えるために、必ず少なくとも2つのツールを使用してください。 - ツールを正確かつ意図的に使用し、異なるツールから最も正確な情報を取得するようにしてください。 - 明確かつ簡潔な回答を提供してください。最終回答に説明を記載しないでください。"
          ]
         ],
         "hovertemplate": "x=%{x}<br>y=%{y}<br>label=%{text}<br>text=%{customdata[0]}<extra></extra>",
         "legendgroup": "",
         "marker": {
          "color": "#636efa",
          "symbol": "circle"
         },
         "mode": "markers+text",
         "name": "",
         "orientation": "v",
         "showlegend": false,
         "text": [
          "initial_systemprompt",
          "userA_persona_systemprompt",
          "userB_persona_systemprompt",
          "userC_persona_systemprompt"
         ],
         "textposition": "top center",
         "type": "scatter",
         "x": {
          "bdata": "5aaxw9fr98Kz7QtCSgAZwg==",
          "dtype": "f4"
         },
         "xaxis": "x",
         "y": {
          "bdata": "vqWnQplnw0Ku2qVCxgXewg==",
          "dtype": "f4"
         },
         "yaxis": "y"
        }
       ],
       "layout": {
        "height": 700,
        "legend": {
         "tracegroupgap": 0
        },
        "template": {
         "data": {
          "bar": [
           {
            "error_x": {
             "color": "#2a3f5f"
            },
            "error_y": {
             "color": "#2a3f5f"
            },
            "marker": {
             "line": {
              "color": "#E5ECF6",
              "width": 0.5
             },
             "pattern": {
              "fillmode": "overlay",
              "size": 10,
              "solidity": 0.2
             }
            },
            "type": "bar"
           }
          ],
          "barpolar": [
           {
            "marker": {
             "line": {
              "color": "#E5ECF6",
              "width": 0.5
             },
             "pattern": {
              "fillmode": "overlay",
              "size": 10,
              "solidity": 0.2
             }
            },
            "type": "barpolar"
           }
          ],
          "carpet": [
           {
            "aaxis": {
             "endlinecolor": "#2a3f5f",
             "gridcolor": "white",
             "linecolor": "white",
             "minorgridcolor": "white",
             "startlinecolor": "#2a3f5f"
            },
            "baxis": {
             "endlinecolor": "#2a3f5f",
             "gridcolor": "white",
             "linecolor": "white",
             "minorgridcolor": "white",
             "startlinecolor": "#2a3f5f"
            },
            "type": "carpet"
           }
          ],
          "choropleth": [
           {
            "colorbar": {
             "outlinewidth": 0,
             "ticks": ""
            },
            "type": "choropleth"
           }
          ],
          "contour": [
           {
            "colorbar": {
             "outlinewidth": 0,
             "ticks": ""
            },
            "colorscale": [
             [
              0,
              "#0d0887"
             ],
             [
              0.1111111111111111,
              "#46039f"
             ],
             [
              0.2222222222222222,
              "#7201a8"
             ],
             [
              0.3333333333333333,
              "#9c179e"
             ],
             [
              0.4444444444444444,
              "#bd3786"
             ],
             [
              0.5555555555555556,
              "#d8576b"
             ],
             [
              0.6666666666666666,
              "#ed7953"
             ],
             [
              0.7777777777777778,
              "#fb9f3a"
             ],
             [
              0.8888888888888888,
              "#fdca26"
             ],
             [
              1,
              "#f0f921"
             ]
            ],
            "type": "contour"
           }
          ],
          "contourcarpet": [
           {
            "colorbar": {
             "outlinewidth": 0,
             "ticks": ""
            },
            "type": "contourcarpet"
           }
          ],
          "heatmap": [
           {
            "colorbar": {
             "outlinewidth": 0,
             "ticks": ""
            },
            "colorscale": [
             [
              0,
              "#0d0887"
             ],
             [
              0.1111111111111111,
              "#46039f"
             ],
             [
              0.2222222222222222,
              "#7201a8"
             ],
             [
              0.3333333333333333,
              "#9c179e"
             ],
             [
              0.4444444444444444,
              "#bd3786"
             ],
             [
              0.5555555555555556,
              "#d8576b"
             ],
             [
              0.6666666666666666,
              "#ed7953"
             ],
             [
              0.7777777777777778,
              "#fb9f3a"
             ],
             [
              0.8888888888888888,
              "#fdca26"
             ],
             [
              1,
              "#f0f921"
             ]
            ],
            "type": "heatmap"
           }
          ],
          "histogram": [
           {
            "marker": {
             "pattern": {
              "fillmode": "overlay",
              "size": 10,
              "solidity": 0.2
             }
            },
            "type": "histogram"
           }
          ],
          "histogram2d": [
           {
            "colorbar": {
             "outlinewidth": 0,
             "ticks": ""
            },
            "colorscale": [
             [
              0,
              "#0d0887"
             ],
             [
              0.1111111111111111,
              "#46039f"
             ],
             [
              0.2222222222222222,
              "#7201a8"
             ],
             [
              0.3333333333333333,
              "#9c179e"
             ],
             [
              0.4444444444444444,
              "#bd3786"
             ],
             [
              0.5555555555555556,
              "#d8576b"
             ],
             [
              0.6666666666666666,
              "#ed7953"
             ],
             [
              0.7777777777777778,
              "#fb9f3a"
             ],
             [
              0.8888888888888888,
              "#fdca26"
             ],
             [
              1,
              "#f0f921"
             ]
            ],
            "type": "histogram2d"
           }
          ],
          "histogram2dcontour": [
           {
            "colorbar": {
             "outlinewidth": 0,
             "ticks": ""
            },
            "colorscale": [
             [
              0,
              "#0d0887"
             ],
             [
              0.1111111111111111,
              "#46039f"
             ],
             [
              0.2222222222222222,
              "#7201a8"
             ],
             [
              0.3333333333333333,
              "#9c179e"
             ],
             [
              0.4444444444444444,
              "#bd3786"
             ],
             [
              0.5555555555555556,
              "#d8576b"
             ],
             [
              0.6666666666666666,
              "#ed7953"
             ],
             [
              0.7777777777777778,
              "#fb9f3a"
             ],
             [
              0.8888888888888888,
              "#fdca26"
             ],
             [
              1,
              "#f0f921"
             ]
            ],
            "type": "histogram2dcontour"
           }
          ],
          "mesh3d": [
           {
            "colorbar": {
             "outlinewidth": 0,
             "ticks": ""
            },
            "type": "mesh3d"
           }
          ],
          "parcoords": [
           {
            "line": {
             "colorbar": {
              "outlinewidth": 0,
              "ticks": ""
             }
            },
            "type": "parcoords"
           }
          ],
          "pie": [
           {
            "automargin": true,
            "type": "pie"
           }
          ],
          "scatter": [
           {
            "fillpattern": {
             "fillmode": "overlay",
             "size": 10,
             "solidity": 0.2
            },
            "type": "scatter"
           }
          ],
          "scatter3d": [
           {
            "line": {
             "colorbar": {
              "outlinewidth": 0,
              "ticks": ""
             }
            },
            "marker": {
             "colorbar": {
              "outlinewidth": 0,
              "ticks": ""
             }
            },
            "type": "scatter3d"
           }
          ],
          "scattercarpet": [
           {
            "marker": {
             "colorbar": {
              "outlinewidth": 0,
              "ticks": ""
             }
            },
            "type": "scattercarpet"
           }
          ],
          "scattergeo": [
           {
            "marker": {
             "colorbar": {
              "outlinewidth": 0,
              "ticks": ""
             }
            },
            "type": "scattergeo"
           }
          ],
          "scattergl": [
           {
            "marker": {
             "colorbar": {
              "outlinewidth": 0,
              "ticks": ""
             }
            },
            "type": "scattergl"
           }
          ],
          "scattermap": [
           {
            "marker": {
             "colorbar": {
              "outlinewidth": 0,
              "ticks": ""
             }
            },
            "type": "scattermap"
           }
          ],
          "scattermapbox": [
           {
            "marker": {
             "colorbar": {
              "outlinewidth": 0,
              "ticks": ""
             }
            },
            "type": "scattermapbox"
           }
          ],
          "scatterpolar": [
           {
            "marker": {
             "colorbar": {
              "outlinewidth": 0,
              "ticks": ""
             }
            },
            "type": "scatterpolar"
           }
          ],
          "scatterpolargl": [
           {
            "marker": {
             "colorbar": {
              "outlinewidth": 0,
              "ticks": ""
             }
            },
            "type": "scatterpolargl"
           }
          ],
          "scatterternary": [
           {
            "marker": {
             "colorbar": {
              "outlinewidth": 0,
              "ticks": ""
             }
            },
            "type": "scatterternary"
           }
          ],
          "surface": [
           {
            "colorbar": {
             "outlinewidth": 0,
             "ticks": ""
            },
            "colorscale": [
             [
              0,
              "#0d0887"
             ],
             [
              0.1111111111111111,
              "#46039f"
             ],
             [
              0.2222222222222222,
              "#7201a8"
             ],
             [
              0.3333333333333333,
              "#9c179e"
             ],
             [
              0.4444444444444444,
              "#bd3786"
             ],
             [
              0.5555555555555556,
              "#d8576b"
             ],
             [
              0.6666666666666666,
              "#ed7953"
             ],
             [
              0.7777777777777778,
              "#fb9f3a"
             ],
             [
              0.8888888888888888,
              "#fdca26"
             ],
             [
              1,
              "#f0f921"
             ]
            ],
            "type": "surface"
           }
          ],
          "table": [
           {
            "cells": {
             "fill": {
              "color": "#EBF0F8"
             },
             "line": {
              "color": "white"
             }
            },
            "header": {
             "fill": {
              "color": "#C8D4E3"
             },
             "line": {
              "color": "white"
             }
            },
            "type": "table"
           }
          ]
         },
         "layout": {
          "annotationdefaults": {
           "arrowcolor": "#2a3f5f",
           "arrowhead": 0,
           "arrowwidth": 1
          },
          "autotypenumbers": "strict",
          "coloraxis": {
           "colorbar": {
            "outlinewidth": 0,
            "ticks": ""
           }
          },
          "colorscale": {
           "diverging": [
            [
             0,
             "#8e0152"
            ],
            [
             0.1,
             "#c51b7d"
            ],
            [
             0.2,
             "#de77ae"
            ],
            [
             0.3,
             "#f1b6da"
            ],
            [
             0.4,
             "#fde0ef"
            ],
            [
             0.5,
             "#f7f7f7"
            ],
            [
             0.6,
             "#e6f5d0"
            ],
            [
             0.7,
             "#b8e186"
            ],
            [
             0.8,
             "#7fbc41"
            ],
            [
             0.9,
             "#4d9221"
            ],
            [
             1,
             "#276419"
            ]
           ],
           "sequential": [
            [
             0,
             "#0d0887"
            ],
            [
             0.1111111111111111,
             "#46039f"
            ],
            [
             0.2222222222222222,
             "#7201a8"
            ],
            [
             0.3333333333333333,
             "#9c179e"
            ],
            [
             0.4444444444444444,
             "#bd3786"
            ],
            [
             0.5555555555555556,
             "#d8576b"
            ],
            [
             0.6666666666666666,
             "#ed7953"
            ],
            [
             0.7777777777777778,
             "#fb9f3a"
            ],
            [
             0.8888888888888888,
             "#fdca26"
            ],
            [
             1,
             "#f0f921"
            ]
           ],
           "sequentialminus": [
            [
             0,
             "#0d0887"
            ],
            [
             0.1111111111111111,
             "#46039f"
            ],
            [
             0.2222222222222222,
             "#7201a8"
            ],
            [
             0.3333333333333333,
             "#9c179e"
            ],
            [
             0.4444444444444444,
             "#bd3786"
            ],
            [
             0.5555555555555556,
             "#d8576b"
            ],
            [
             0.6666666666666666,
             "#ed7953"
            ],
            [
             0.7777777777777778,
             "#fb9f3a"
            ],
            [
             0.8888888888888888,
             "#fdca26"
            ],
            [
             1,
             "#f0f921"
            ]
           ]
          },
          "colorway": [
           "#636efa",
           "#EF553B",
           "#00cc96",
           "#ab63fa",
           "#FFA15A",
           "#19d3f3",
           "#FF6692",
           "#B6E880",
           "#FF97FF",
           "#FECB52"
          ],
          "font": {
           "color": "#2a3f5f"
          },
          "geo": {
           "bgcolor": "white",
           "lakecolor": "white",
           "landcolor": "#E5ECF6",
           "showlakes": true,
           "showland": true,
           "subunitcolor": "white"
          },
          "hoverlabel": {
           "align": "left"
          },
          "hovermode": "closest",
          "mapbox": {
           "style": "light"
          },
          "paper_bgcolor": "white",
          "plot_bgcolor": "#E5ECF6",
          "polar": {
           "angularaxis": {
            "gridcolor": "white",
            "linecolor": "white",
            "ticks": ""
           },
           "bgcolor": "#E5ECF6",
           "radialaxis": {
            "gridcolor": "white",
            "linecolor": "white",
            "ticks": ""
           }
          },
          "scene": {
           "xaxis": {
            "backgroundcolor": "#E5ECF6",
            "gridcolor": "white",
            "gridwidth": 2,
            "linecolor": "white",
            "showbackground": true,
            "ticks": "",
            "zerolinecolor": "white"
           },
           "yaxis": {
            "backgroundcolor": "#E5ECF6",
            "gridcolor": "white",
            "gridwidth": 2,
            "linecolor": "white",
            "showbackground": true,
            "ticks": "",
            "zerolinecolor": "white"
           },
           "zaxis": {
            "backgroundcolor": "#E5ECF6",
            "gridcolor": "white",
            "gridwidth": 2,
            "linecolor": "white",
            "showbackground": true,
            "ticks": "",
            "zerolinecolor": "white"
           }
          },
          "shapedefaults": {
           "line": {
            "color": "#2a3f5f"
           }
          },
          "ternary": {
           "aaxis": {
            "gridcolor": "white",
            "linecolor": "white",
            "ticks": ""
           },
           "baxis": {
            "gridcolor": "white",
            "linecolor": "white",
            "ticks": ""
           },
           "bgcolor": "#E5ECF6",
           "caxis": {
            "gridcolor": "white",
            "linecolor": "white",
            "ticks": ""
           }
          },
          "title": {
           "x": 0.05
          },
          "xaxis": {
           "automargin": true,
           "gridcolor": "white",
           "linecolor": "white",
           "ticks": "",
           "title": {
            "standoff": 15
           },
           "zerolinecolor": "white",
           "zerolinewidth": 2
          },
          "yaxis": {
           "automargin": true,
           "gridcolor": "white",
           "linecolor": "white",
           "ticks": "",
           "title": {
            "standoff": 15
           },
           "zerolinecolor": "white",
           "zerolinewidth": 2
          }
         }
        },
        "title": {
         "text": "System Prompt t-SNE"
        },
        "width": 700,
        "xaxis": {
         "anchor": "y",
         "domain": [
          0,
          1
         ],
         "title": {
          "text": "x"
         }
        },
        "yaxis": {
         "anchor": "x",
         "domain": [
          0,
          1
         ],
         "scaleanchor": "x",
         "scaleratio": 1,
         "title": {
          "text": "y"
         }
        }
       }
      }
     },
     "metadata": {},
     "output_type": "display_data"
    }
   ],
   "source": [
    "perplexity = max(2, min(30, len(embeddings)//2))\n",
    "tsne = TSNE(n_components=2, random_state=42, init='pca', perplexity=perplexity)\n",
    "points_2d = tsne.fit_transform(embeddings)\n",
    "\n",
    "df = pd.DataFrame({'x': points_2d[:,0], 'y': points_2d[:,1], 'label': labels, 'text': texts})\n",
    "fig = px.scatter(df, x='x', y='y', text='label', hover_data={'text': True}, title='System Prompt t-SNE')\n",
    "fig.update_traces(textposition='top center')\n",
    "fig.update_layout(\n",
    "    width=700,\n",
    "    height=700,\n",
    "    yaxis=dict(scaleanchor=\"x\", scaleratio=1)\n",
    ")\n",
    "\n",
    "fig.show()"
   ]
  }
 ],
 "metadata": {
  "kernelspec": {
   "display_name": "personaagent-ugbZbEgz-py3.10",
   "language": "python",
   "name": "python3"
  },
  "language_info": {
   "codemirror_mode": {
    "name": "ipython",
    "version": 3
   },
   "file_extension": ".py",
   "mimetype": "text/x-python",
   "name": "python",
   "nbconvert_exporter": "python",
   "pygments_lexer": "ipython3",
   "version": "3.10.13"
  }
 },
 "nbformat": 4,
 "nbformat_minor": 5
}
